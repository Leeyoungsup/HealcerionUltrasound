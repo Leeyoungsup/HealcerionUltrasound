{
 "cells": [
  {
   "cell_type": "code",
   "execution_count": 63,
   "metadata": {},
   "outputs": [],
   "source": [
    "import numpy as np\n",
    "import cv2\n",
    "from PIL import Image,ImageDraw\n",
    "from glob import glob\n",
    "import xml.etree.ElementTree as elemTree"
   ]
  },
  {
   "cell_type": "code",
   "execution_count": null,
   "metadata": {},
   "outputs": [],
   "source": [
    "img_path='../../data/ddh-107/images/'\n",
    "annotation_xml=elemTree.parse('../../data/ddh-107/annotations.xml')"
   ]
  },
  {
   "cell_type": "code",
   "execution_count": 105,
   "metadata": {},
   "outputs": [],
   "source": [
    "root = annotation_xml.getroot()\n",
    "color_dict={'Labrum':(0,255,0),'LabrumCapsule':(255,0,0),'IliacBone':(0,0,255),'BottomFemoralHead':(255,255,0)}\n",
    "count=0\n",
    "for i in range(2,len(list(list(root)))):\n",
    "    image_name=list(list(root))[i].attrib['name']\n",
    "    label=list(list(list(root))[i])\n",
    "    image=Image.open(img_path+image_name)\n",
    "    \n",
    "    for j in range(len(label)):\n",
    "        color=color_dict[label[j].attrib['label']]\n",
    "        x1=int(float(label[j].attrib['xtl']))\n",
    "        y1=int(float(label[j].attrib['ytl']))\n",
    "        x2=int(float(label[j].attrib['xbr']))\n",
    "        y2=int(float(label[j].attrib['ybr']))\n",
    "        bbox  = (x1,y1,x2,y2)\n",
    "        draw = ImageDraw.Draw(image)\n",
    "        draw.rectangle(bbox, outline=color, width = 3)\n",
    "        text_pos = (bbox[0]+5,bbox[1]-12)\n",
    "        draw.text(text_pos, label[j].attrib['label'],color) \n",
    "    count+=1\n",
    "    image.save('../../data/ROI_image/'+str(count)+'.png')\n",
    "    \n",
    "img_path='../../data/ddhs2-107/images/'\n",
    "annotation_xml=elemTree.parse('../../data/ddhs2-107/annotations.xml')\n",
    "root = annotation_xml.getroot()    \n",
    "for i in range(2,len(list(list(root)))):\n",
    "    image_name=list(list(root))[i].attrib['name']\n",
    "    label=list(list(list(root))[i])\n",
    "    image=Image.open(img_path+image_name)\n",
    "    \n",
    "    for j in range(len(label)):\n",
    "        color=color_dict[label[j].attrib['label']]\n",
    "        x1=int(float(label[j].attrib['xtl']))\n",
    "        y1=int(float(label[j].attrib['ytl']))\n",
    "        x2=int(float(label[j].attrib['xbr']))\n",
    "        y2=int(float(label[j].attrib['ybr']))\n",
    "        bbox  = (x1,y1,x2,y2)\n",
    "        draw = ImageDraw.Draw(image)\n",
    "        draw.rectangle(bbox, outline=color, width = 3)\n",
    "        text_pos = (bbox[0]+5,bbox[1]-12)\n",
    "        draw.text(text_pos, label[j].attrib['label'],color) \n",
    "    count+=1\n",
    "    image.save('../../data/ROI_image/'+str(count)+'.png')"
   ]
  },
  {
   "cell_type": "code",
   "execution_count": null,
   "metadata": {},
   "outputs": [],
   "source": []
  }
 ],
 "metadata": {
  "kernelspec": {
   "display_name": "LeeYS",
   "language": "python",
   "name": "python3"
  },
  "language_info": {
   "codemirror_mode": {
    "name": "ipython",
    "version": 3
   },
   "file_extension": ".py",
   "mimetype": "text/x-python",
   "name": "python",
   "nbconvert_exporter": "python",
   "pygments_lexer": "ipython3",
   "version": "3.9.0"
  },
  "orig_nbformat": 4
 },
 "nbformat": 4,
 "nbformat_minor": 2
}
