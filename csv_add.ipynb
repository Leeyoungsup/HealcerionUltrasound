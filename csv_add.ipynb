{
 "cells": [
  {
   "cell_type": "code",
   "execution_count": null,
   "metadata": {},
   "outputs": [],
   "source": [
    "import cv2\n",
    "import numpy as np \n",
    "import pandas as pd\n",
    "from glob import glob\n",
    "import os\n",
    "from copy import copy"
   ]
  },
  {
   "cell_type": "code",
   "execution_count": 28,
   "metadata": {},
   "outputs": [],
   "source": [
    "style_list=glob('../../data/standardFrame_data/scale_skip/train/style/*.jpg')\n",
    "src_pd=pd.read_csv('../../data/standardFrame_data/scale_skip/Train_dataframe.csv')\n",
    "dst_pd=copy(src_pd)"
   ]
  },
  {
   "cell_type": "code",
   "execution_count": 29,
   "metadata": {},
   "outputs": [],
   "source": [
    "for i in range(len(style_list)):\n",
    "    file_name=os.path.basename(style_list[i])\n",
    "    dst_pd.loc[24869+i]=['/style/'+file_name,1]"
   ]
  },
  {
   "cell_type": "code",
   "execution_count": 31,
   "metadata": {},
   "outputs": [],
   "source": [
    "dst_pd.to_csv('../../data/standardFrame_data/scale_skip/Train_GAN_dataframe.csv',mode = 'w', index=False)"
   ]
  }
 ],
 "metadata": {
  "kernelspec": {
   "display_name": "LeeYS",
   "language": "python",
   "name": "python3"
  },
  "language_info": {
   "codemirror_mode": {
    "name": "ipython",
    "version": 3
   },
   "file_extension": ".py",
   "mimetype": "text/x-python",
   "name": "python",
   "nbconvert_exporter": "python",
   "pygments_lexer": "ipython3",
   "version": "3.9.0"
  },
  "orig_nbformat": 4
 },
 "nbformat": 4,
 "nbformat_minor": 2
}
