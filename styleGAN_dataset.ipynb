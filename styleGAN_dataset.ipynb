{
 "cells": [
  {
   "cell_type": "code",
   "execution_count": null,
   "metadata": {},
   "outputs": [],
   "source": [
    "import numpy as np \n",
    "import pandas as pd\n",
    "import os\n",
    "import glob\n",
    "import shutil"
   ]
  },
  {
   "cell_type": "code",
   "execution_count": null,
   "metadata": {},
   "outputs": [],
   "source": [
    "file_path='../../data/standardFrame_data/scale_skip/'\n",
    "style_path='../../data/standardFrame_data/scale_skip/style/standard/'\n",
    "data_class='train'\n",
    "csv_file=pd.read_csv(file_path+'Train_dataframe.csv')"
   ]
  },
  {
   "cell_type": "code",
   "execution_count": 31,
   "metadata": {},
   "outputs": [],
   "source": [
    "standard_csv=csv_file.loc[csv_file['standard']==1].reset_index()\n",
    "for i in range(len(standard_csv)):\n",
    "    src_file_path=file_path+data_class+standard_csv.loc[i]['file_path']\n",
    "    dst_file_path=style_path+'image_'+str(i).zfill(5)+'.jpg'\n",
    "    shutil.copy(src_file_path, dst_file_path)"
   ]
  }
 ],
 "metadata": {
  "kernelspec": {
   "display_name": "LeeYS",
   "language": "python",
   "name": "python3"
  },
  "language_info": {
   "codemirror_mode": {
    "name": "ipython",
    "version": 3
   },
   "file_extension": ".py",
   "mimetype": "text/x-python",
   "name": "python",
   "nbconvert_exporter": "python",
   "pygments_lexer": "ipython3",
   "version": "3.9.0"
  },
  "orig_nbformat": 4
 },
 "nbformat": 4,
 "nbformat_minor": 2
}
