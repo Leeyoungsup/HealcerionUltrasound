{
 "cells": [
  {
   "cell_type": "code",
   "execution_count": 18,
   "metadata": {},
   "outputs": [],
   "source": [
    "import cv2\n",
    "import numpy as np \n",
    "import pandas as pd \n",
    "from glob import glob\n",
    "from PIL import Image\n"
   ]
  },
  {
   "cell_type": "code",
   "execution_count": 19,
   "metadata": {},
   "outputs": [],
   "source": [
    "standard_data1=glob('../../data/original_dataset/StandardFrame/data1/*.jpg')\n",
    "standard_data2=glob('../../data/original_dataset/StandardFrame/data2/*.jpg')\n",
    "standard_data3=glob('../../data/original_dataset/StandardFrame/data3/*.jpg')\n",
    "standard_data4=glob('../../data/original_dataset/StandardFrame/data4/*.jpg')\n",
    "\n",
    "not_standard_data1=glob('../../data/original_dataset/NotStandardFrame/data1/*.jpg')\n",
    "not_standard_data2=glob('../../data/original_dataset/NotStandardFrame/data2/*.jpg')\n",
    "not_standard_data3=glob('../../data/original_dataset/NotStandardFrame/data3/*.jpg')\n",
    "not_standard_data4=glob('../../data/original_dataset/NotStandardFrame/data4/*.jpg')\n",
    "\n",
    "def expand2square(pil_img, background_color):\n",
    "    width, height = pil_img.size\n",
    "    if width == height:\n",
    "        return pil_img\n",
    "    elif width > height:\n",
    "        result = Image.new(pil_img.mode, (width, width), background_color)\n",
    "        result.paste(pil_img, (0, (width - height) // 2))\n",
    "        return result\n",
    "    else:\n",
    "        result = Image.new(pil_img.mode, (height, height), background_color)\n",
    "        result.paste(pil_img, ((height - width) // 2, 0))\n",
    "        return result\n",
    "\n",
    "def padding(standard_data):\n",
    "    pre_standard_data = [f.replace('/original_dataset', '/preprocessing_dataset') for f in standard_data]\n",
    "    for i in range(len(pre_standard_data)):\n",
    "        image=Image.open(standard_data[i])\n",
    "        image=image.crop((196,128,508,640))\n",
    "        image=image.resize((312,512))\n",
    "        image=expand2square(image,(0,0,0))\n",
    "        image.save(pre_standard_data[i])\n",
    "\n",
    "def data4_padding(standard_data):\n",
    "    pre_standard_data = [f.replace('/original_dataset', '/preprocessing_dataset') for f in standard_data]\n",
    "    for i in range(len(pre_standard_data)):\n",
    "        image=Image.open(standard_data[i])\n",
    "        image=image.crop((176,128,536,640))\n",
    "        image=image.resize((312,512))\n",
    "        image=expand2square(image,(0,0,0))\n",
    "        image.save(pre_standard_data[i])"
   ]
  },
  {
   "cell_type": "code",
   "execution_count": 22,
   "metadata": {},
   "outputs": [],
   "source": [
    "padding(standard_data1)\n",
    "padding(standard_data2)\n",
    "padding(standard_data3)\n",
    "data4_padding(standard_data4)\n",
    "\n",
    "padding(not_standard_data1)\n",
    "padding(not_standard_data2)\n",
    "padding(not_standard_data3)\n",
    "data4_padding(not_standard_data4)"
   ]
  }
 ],
 "metadata": {
  "kernelspec": {
   "display_name": "LeeYS_tf210",
   "language": "python",
   "name": "python3"
  },
  "language_info": {
   "codemirror_mode": {
    "name": "ipython",
    "version": 3
   },
   "file_extension": ".py",
   "mimetype": "text/x-python",
   "name": "python",
   "nbconvert_exporter": "python",
   "pygments_lexer": "ipython3",
   "version": "3.9.15"
  },
  "orig_nbformat": 4
 },
 "nbformat": 4,
 "nbformat_minor": 2
}
