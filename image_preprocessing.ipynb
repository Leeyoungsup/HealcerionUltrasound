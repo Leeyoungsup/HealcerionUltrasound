{
 "cells": [
  {
   "cell_type": "code",
   "execution_count": 2,
   "metadata": {},
   "outputs": [],
   "source": [
    "import cv2\n",
    "import numpy as np \n",
    "import pandas as pd \n",
    "from glob import glob\n",
    "from PIL import Image\n"
   ]
  },
  {
   "cell_type": "code",
   "execution_count": 3,
   "metadata": {},
   "outputs": [],
   "source": [
    "standard_data=glob('../../data/original_dataset/StandardFrame/**/*.jpg')\n",
    "\n",
    "\n",
    "not_standard_data=glob('../../data/original_dataset/NotStandardFrame/**/*.jpg')\n",
    "\n",
    "\n",
    "def expand2square(pil_img, background_color):\n",
    "    width, height = pil_img.size\n",
    "    if width == height:\n",
    "        return pil_img\n",
    "    elif width > height:\n",
    "        result = Image.new(pil_img.mode, (width, width), background_color)\n",
    "        result.paste(pil_img, (0, (width - height) // 2))\n",
    "        return result\n",
    "    else:\n",
    "        result = Image.new(pil_img.mode, (height, height), background_color)\n",
    "        result.paste(pil_img, ((height - width) // 2, 0))\n",
    "        return result\n",
    "\n",
    "def padding(standard_data):\n",
    "    pre_standard_data = [f.replace('/original_dataset', '/preprocessing_dataset') for f in standard_data]\n",
    "    for i in range(len(pre_standard_data)):\n",
    "        image=Image.open(standard_data[i])\n",
    "        np_image=np.array(image)\n",
    "        if np_image[520,520].mean()==0:\n",
    "            image=image.crop((196,128,508,640))\n",
    "            image=image.resize((312,512))\n",
    "            image=expand2square(image,(0,0,0))\n",
    "            image.save(pre_standard_data[i])\n",
    "        else:\n",
    "            image=image.crop((176,128,536,640))\n",
    "            image=image.resize((360,512))\n",
    "            image=expand2square(image,(0,0,0))\n",
    "            image.save(pre_standard_data[i]) \n"
   ]
  },
  {
   "cell_type": "code",
   "execution_count": 4,
   "metadata": {},
   "outputs": [],
   "source": [
    "padding(standard_data)\n",
    "\n",
    "\n",
    "padding(not_standard_data)\n"
   ]
  }
 ],
 "metadata": {
  "kernelspec": {
   "display_name": "LeeYS_tf210",
   "language": "python",
   "name": "python3"
  },
  "language_info": {
   "codemirror_mode": {
    "name": "ipython",
    "version": 3
   },
   "file_extension": ".py",
   "mimetype": "text/x-python",
   "name": "python",
   "nbconvert_exporter": "python",
   "pygments_lexer": "ipython3",
   "version": "3.9.0"
  },
  "orig_nbformat": 4
 },
 "nbformat": 4,
 "nbformat_minor": 2
}
