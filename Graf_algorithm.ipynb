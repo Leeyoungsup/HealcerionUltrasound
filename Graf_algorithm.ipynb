{
 "cells": [
  {
   "cell_type": "code",
   "execution_count": 9,
   "metadata": {},
   "outputs": [],
   "source": [
    "import numpy as np\n",
    "from PIL import Image\n",
    "from glob import glob\n",
    "import cv2\n"
   ]
  },
  {
   "cell_type": "code",
   "execution_count": 4,
   "metadata": {},
   "outputs": [],
   "source": [
    "mask_list=glob('../../data/segmentationDDH/predict/DeepLabV3Plus/GT/**/')\n",
    "pred_DeepLabV3Plus_list=glob('../../data/segmentationDDH/predict/DeepLabV3Plus/pred/**/')\n",
    "pred_NestedUNet_list=glob('../../data/segmentationDDH/predict/NestedUNet/pred/**/')\n",
    "pred_PAN_list=glob('../../data/segmentationDDH/predict/PAN/pred/**/')\n",
    "pred_UNet_list=glob('../../data/segmentationDDH/predict/UNet/pred/**/')"
   ]
  },
  {
   "cell_type": "code",
   "execution_count": 8,
   "metadata": {},
   "outputs": [
    {
     "data": {
      "text/plain": [
       "array([[ 0.00197376+0.j,  0.00191495+0.j, -0.00193299+0.j, ...,\n",
       "        -0.2423239 +0.j, -0.1498881 +0.j,  0.12966086+0.j],\n",
       "       [ 0.00197376+0.j,  0.00191495+0.j, -0.00193299+0.j, ...,\n",
       "        -0.1936499 +0.j, -0.14988811+0.j,  0.12966086+0.j],\n",
       "       [ 0.00197376+0.j,  0.00191495+0.j, -0.00193299+0.j, ...,\n",
       "        -0.4707178 +0.j, -0.14988811+0.j,  0.12966086+0.j],\n",
       "       ...,\n",
       "       [ 0.00197376+0.j,  0.00191495+0.j, -0.00193299+0.j, ...,\n",
       "        -0.43387818+0.j, -0.01814898+0.j, -0.01895221+0.j],\n",
       "       [ 0.00197376+0.j,  0.00191495+0.j, -0.00193299+0.j, ...,\n",
       "        -0.43387643+0.j, -0.01814898+0.j, -0.01895221+0.j],\n",
       "       [ 0.00197376+0.j,  0.00191495+0.j, -0.00193299+0.j, ...,\n",
       "        -0.43387666+0.j, -0.01814898+0.j, -0.01895221+0.j]],\n",
       "      dtype=complex64)"
      ]
     },
     "execution_count": 8,
     "metadata": {},
     "output_type": "execute_result"
    }
   ],
   "source": [
    "#2D mask image pca algorithm function\n",
    "def pca(img):\n",
    "    img = img.astype(np.float32)\n",
    "    img = img - np.mean(img)\n",
    "    h, w = img.shape\n",
    "    if h > w:\n",
    "        img = img.T\n",
    "        h, w = img.shape\n",
    "    img_cov = np.dot(img, img.T) / (h * w - 1)\n",
    "    eig_val, eig_vec = np.linalg.eig(img_cov)\n",
    "    sort_idx = np.argsort(eig_val)[::-1]\n",
    "    eig_val = eig_val[sort_idx]\n",
    "    eig_vec = eig_vec[:, sort_idx]\n",
    "    return eig_val, eig_vec\n",
    "image=Image.open(mask_list[0]+'2.png')\n",
    "# pca value image overlay plot\n",
    "\n",
    "pca(np.array(image))[1]"
   ]
  }
 ],
 "metadata": {
  "kernelspec": {
   "display_name": "LeeYS",
   "language": "python",
   "name": "python3"
  },
  "language_info": {
   "codemirror_mode": {
    "name": "ipython",
    "version": 3
   },
   "file_extension": ".py",
   "mimetype": "text/x-python",
   "name": "python",
   "nbconvert_exporter": "python",
   "pygments_lexer": "ipython3",
   "version": "3.9.0"
  }
 },
 "nbformat": 4,
 "nbformat_minor": 2
}
