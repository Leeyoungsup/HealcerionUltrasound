{
 "cells": [
  {
   "cell_type": "code",
   "execution_count": 10,
   "metadata": {},
   "outputs": [],
   "source": [
    "import json\n",
    "import pandas as pd \n",
    "import numpy as np \n",
    "from glob import glob\n",
    "import os\n",
    "import matplotlib.pyplot as plt\n",
    "import shutil\n",
    "from sklearn.model_selection import train_test_split\n",
    "from sklearn.utils import shuffle\n",
    "from PIL import Image\n"
   ]
  },
  {
   "cell_type": "code",
   "execution_count": 3,
   "metadata": {},
   "outputs": [],
   "source": [
    "folder_path=glob(\"../../data/*\")\n",
    "data1_img_path=glob(folder_path[0]+\"/data/*.jpg\")\n",
    "data2_img_path=glob(folder_path[2]+\"/data/*.jpg\")\n",
    "\n",
    "\n",
    "def AnnotationsPd(annotations):\n",
    "    values_list = []\n",
    "    names_list = [] \n",
    "    df = pd.DataFrame(annotations['tags'])\n",
    "    for row in df['attributes']:\n",
    "        values_list.append(row[0]['value'])\n",
    "        names_list.append(row[0]['name'])\n",
    "\n",
    "    df=df.drop(['attributes'],axis=1)   \n",
    "    df.insert(3,'value',values_list)\n",
    "    df.insert(4,'name',names_list)\n",
    "    return df\n"
   ]
  },
  {
   "cell_type": "code",
   "execution_count": 5,
   "metadata": {},
   "outputs": [],
   "source": [
    "data1_img_path.extend(data2_img_path)\n"
   ]
  },
  {
   "cell_type": "code",
   "execution_count": 7,
   "metadata": {},
   "outputs": [],
   "source": [
    "Train_file_path=[]\n",
    "\n",
    "with open(folder_path[0]+'/annotations.json') as f:\n",
    "    annotations_json = json.load(f)\n",
    "std_frame=AnnotationsPd(annotations_json[0])['frame']\n",
    "for frame in std_frame:\n",
    "    file= [s for s in data1_img_path if str(frame).zfill(5) in s] \n",
    "    Train_file_path.append(file[0])\n",
    "with open(folder_path[2]+'/annotations.json') as f:\n",
    "    annotations_json = json.load(f)   \n",
    "std_frame=AnnotationsPd(annotations_json[0])['frame']\n",
    "for frame in std_frame:\n",
    "    file= [s for s in data2_img_path if str(frame).zfill(5) in s] \n",
    "    Train_file_path.append(file[0])\n",
    "\n",
    "\n",
    "Train_file_path=list(set(Train_file_path))\n",
    "Train_TF_standard=[]\n",
    "for i in range(len(Train_file_path)):\n",
    "    shutil.copy(Train_file_path[i],'../../data/6_Train_styleGAN/img/Abnormal/'+str(i)+'.jpg')"
   ]
  },
  {
   "cell_type": "code",
   "execution_count": 8,
   "metadata": {},
   "outputs": [],
   "source": [
    "Train_not_standard_file1=list(set(data1_img_path)-set(Train_file_path))\n",
    "for i in range(len(Train_not_standard_file1)):\n",
    "    shutil.copy(Train_not_standard_file1[i],'../../data/6_Train_styleGAN/img/Normal/'+str(i)+'.jpg')\n"
   ]
  },
  {
   "cell_type": "code",
   "execution_count": 11,
   "metadata": {},
   "outputs": [],
   "source": [
    "standard_data=glob('../../data/6_Train_styleGAN/img/Abnormal/*.jpg')\n",
    "not_standard_data=glob('../../data/6_Train_styleGAN/img/Normal/*.jpg')\n",
    "\n",
    "def expand2square(pil_img, background_color):\n",
    "    width, height = pil_img.size\n",
    "    if width == height:\n",
    "        return pil_img\n",
    "    elif width > height:\n",
    "        result = Image.new(pil_img.mode, (width, width), background_color)\n",
    "        result.paste(pil_img, (0, (width - height) // 2))\n",
    "        return result\n",
    "    else:\n",
    "        result = Image.new(pil_img.mode, (height, height), background_color)\n",
    "        result.paste(pil_img, ((height - width) // 2, 0))\n",
    "        return result\n",
    "\n",
    "def padding(standard_data):\n",
    "\n",
    "    for i in range(len(standard_data)):\n",
    "        image=Image.open(standard_data[i])\n",
    "        image=image.crop((196,128,508,640))\n",
    "        image=image.resize((312,512))\n",
    "        image=expand2square(image,(0,0,0))\n",
    "        image.save(standard_data[i])"
   ]
  },
  {
   "cell_type": "code",
   "execution_count": 12,
   "metadata": {},
   "outputs": [],
   "source": [
    "padding(standard_data)\n",
    "padding(not_standard_data)"
   ]
  }
 ],
 "metadata": {
  "kernelspec": {
   "display_name": "LeeYS",
   "language": "python",
   "name": "python3"
  },
  "language_info": {
   "codemirror_mode": {
    "name": "ipython",
    "version": 3
   },
   "file_extension": ".py",
   "mimetype": "text/x-python",
   "name": "python",
   "nbconvert_exporter": "python",
   "pygments_lexer": "ipython3",
   "version": "3.9.15"
  },
  "orig_nbformat": 4
 },
 "nbformat": 4,
 "nbformat_minor": 2
}
