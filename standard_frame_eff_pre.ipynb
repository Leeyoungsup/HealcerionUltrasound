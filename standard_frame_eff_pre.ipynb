{
 "cells": [
  {
   "cell_type": "code",
   "execution_count": null,
   "metadata": {},
   "outputs": [],
   "source": [
    "import cv2\n",
    "import numpy as np \n",
    "import pandas as pd \n",
    "import os\n",
    "from PIL import Image\n",
    "from tensorflow.keras.applications.resnet50 import ResNet50\n",
    "import tensorflow as tf\n",
    "import tensorflow.keras as K\n",
    "from tensorflow.keras import datasets, layers, models, losses, Model\n",
    "from sklearn.model_selection import train_test_split\n",
    "from sklearn import preprocessing as pre\n",
    "from glob import glob\n",
    "from sklearn.utils.class_weight import compute_class_weight\n",
    "\n",
    "os.environ[\"CUDA_VISIBLE_DEVICES\"] = '1,2,3'\n"
   ]
  },
  {
   "cell_type": "code",
   "execution_count": null,
   "metadata": {},
   "outputs": [],
   "source": [
    "Train_img_list=pd.read_csv('../../data/preprocessing_dataset/Train_data_set.csv')['file_path'].to_list()\n",
    "Train_label_list=pd.read_csv('../../data/preprocessing_dataset/Train_data_set.csv')['standard_frame'].to_list()\n",
    "Test_img_list=pd.read_csv('../../data/preprocessing_dataset/Test_data_set.csv')['file_path'].to_list()\n",
    "Test_label_list=pd.read_csv('../../data/preprocessing_dataset/Test_data_set.csv')['standard_frame'].to_list()"
   ]
  },
  {
   "cell_type": "code",
   "execution_count": null,
   "metadata": {},
   "outputs": [],
   "source": [
    "size=256\n",
    "x_train = np.zeros((len(Train_img_list),size,size,3))\n",
    "y_train = np.zeros((len(Train_label_list),1))\n",
    "for i in range(len(Train_img_list)):\n",
    "    x_train[i] =np.array(Image.open('../../data/preprocessing_dataset/'+Train_img_list[i]).resize((size,size)))\n",
    "x_train=x_train/255\n",
    "y_train=np.array(Train_label_list)\n",
    "\n",
    "x_test = np.zeros((len(Test_img_list),size,size,3))\n",
    "y_test = np.zeros((len(Test_label_list),1))\n",
    "for i in range(len(Test_img_list)):\n",
    "    x_test[i] =np.array(Image.open('../../data/preprocessing_dataset/'+Test_img_list[i]).resize((size,size)))\n",
    "x_test=x_test/255\n",
    "y_test=np.array(Test_label_list)\n",
    "x_test, x_val, y_test, y_val = train_test_split(x_test, y_test, test_size=0.5, random_state=42)"
   ]
  },
  {
   "cell_type": "code",
   "execution_count": null,
   "metadata": {},
   "outputs": [],
   "source": [
    "\n",
    "checkpoint_filepath = \"../../model/EffiB2_preprocessing_checkpoints.h5\"\n",
    "model_checkpoint_callback = tf.keras.callbacks.ModelCheckpoint(\n",
    "    filepath=checkpoint_filepath,\n",
    "    save_best_only= True\n",
    ")\n",
    "class_weight_ratio=compute_class_weight(class_weight = \"balanced\" , \n",
    "                     classes=np.unique(y_train), \n",
    "                     y = y_train)\n",
    "class_weight = {0:class_weight_ratio[0],1:class_weight_ratio[1]}\n",
    "mirrored_strategy = tf.distribute.MirroredStrategy(devices=['/GPU:0','/GPU:1'])\n",
    "with mirrored_strategy.scope(): \n",
    "    input_t=K.Input(shape=(size,size, 3))\n",
    "    input_tensor = layers.experimental.preprocessing.Resizing(size, size, interpolation=\"bilinear\", input_shape=x_train.shape[1:])(input_t)\n",
    "    effNet=tf.keras.applications.EfficientNetB2(include_top=True,weights='imagenet',input_tensor=input_tensor)\n",
    "    model = K.models.Sequential()\n",
    "    model.add(effNet)\n",
    "    model.add(tf.keras.layers.Dropout(.2, input_shape=(64,)))\n",
    "    model.add(K.layers.Dense(64, activation=tf.keras.layers.LeakyReLU(alpha=0.1)))\n",
    "    model.add(K.layers.Dense(1, activation='sigmoid'))\n",
    "    model.compile(optimizer=K.optimizers.Adam(lr=1e-6),\n",
    "                  loss=tf.keras.losses.binary_crossentropy,\n",
    "                  metrics=[\"accuracy\"])\n",
    "    histo=model.fit(\n",
    "        x_train,y_train,\n",
    "        validation_data=(x_val,y_val),\n",
    "        epochs=500,\n",
    "        callbacks=[model_checkpoint_callback],\n",
    "        batch_size=6,shuffle=True,\n",
    "        class_weight=class_weight\n",
    "    )\n",
    "model.save('../../model/EffiB2_preprocessing256.h5')"
   ]
  },
  {
   "cell_type": "code",
   "execution_count": null,
   "metadata": {},
   "outputs": [],
   "source": [
    "import matplotlib.pyplot as plt\n",
    "from sklearn.metrics import roc_curve\n",
    "from sklearn.metrics import classification_report\n",
    "from sklearn.metrics import classification_report\n",
    "from sklearn.metrics import confusion_matrix\n",
    "from sklearn.metrics import ConfusionMatrixDisplay\n",
    "from sklearn.metrics import roc_auc_score\n",
    "def plot_roc_curve(fper, tper):\n",
    "    \n",
    "    plt.plot(fper, tper, color='red', label='auc='+str(auc_score))\n",
    "    plt.plot([0, 1], [0, 1], color='green', linestyle='--')\n",
    "    plt.xlabel('False Positive Rate')\n",
    "    plt.ylabel('True Positive Rate')\n",
    "    plt.title('Receiver Operating Characteristic Curve')\n",
    "    plt.legend()\n",
    "    plt.show()\n",
    "\n",
    "model = K.models.load_model('../../model/resnet50_preprocessing_checkpoints.h5')\n",
    "classes = ['NotStandardFrame','StandardFrame']\n",
    "prob = model.predict(x_test)\n",
    "t_prob=np.where(prob>0.5,1,0)\n",
    "fper, tper, thresholds = roc_curve(y_test, prob)\n",
    "auc_score=roc_auc_score(y_test, t_prob)\n",
    "plot_roc_curve(fper, tper)\n",
    "cm = confusion_matrix(y_test, t_prob)\n",
    "cm_display = ConfusionMatrixDisplay(cm,\n",
    "                              display_labels=classes).plot()\n",
    "\n",
    "\n",
    "# F1 점수, 재현율, 정밀도 계산\n",
    "report = classification_report(y_test, t_prob, target_names=classes)\n",
    "\n",
    "# 결과 출력\n",
    "print(report)\n"
   ]
  }
 ],
 "metadata": {
  "kernelspec": {
   "display_name": "LeeYS_torch",
   "language": "python",
   "name": "python3"
  },
  "language_info": {
   "codemirror_mode": {
    "name": "ipython",
    "version": 3
   },
   "file_extension": ".py",
   "mimetype": "text/x-python",
   "name": "python",
   "nbconvert_exporter": "python",
   "pygments_lexer": "ipython3",
   "version": "3.9.15"
  },
  "orig_nbformat": 4
 },
 "nbformat": 4,
 "nbformat_minor": 2
}
