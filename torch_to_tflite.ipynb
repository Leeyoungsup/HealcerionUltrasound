{
 "cells": [
  {
   "cell_type": "code",
   "execution_count": 6,
   "metadata": {},
   "outputs": [],
   "source": [
    "import torch\n",
    "import segmentation_models_pytorch as smp\n",
    "from onnx_tf.backend import prepare\n",
    "import onnx\n",
    "import tensorflow as tf\n"
   ]
  },
  {
   "cell_type": "markdown",
   "metadata": {},
   "source": [
    "Torch to onnx"
   ]
  },
  {
   "cell_type": "code",
   "execution_count": null,
   "metadata": {},
   "outputs": [],
   "source": [
    "def torch2onnx(pt_model_path, onnx_model_path, img_size,model):\n",
    "    img_size = (img_size, img_size)\n",
    "    batch_size = 1\n",
    "    \n",
    "    model.load_state_dict(torch.load(pt_model_path))\n",
    "    sample_input = torch.rand((batch_size, 3, *img_size))\n",
    "\n",
    "    torch.onnx.export(\n",
    "        model,\n",
    "        sample_input, \n",
    "        onnx_model_path,\n",
    "        verbose=False,\n",
    "        input_names=['input'],\n",
    "        output_names=['output'],\n",
    "        opset_version=12\n",
    "    )\n",
    "torch2onnx('../../model/segmentation/DeepLabV3Plus_callback.pt', '../../model/segmentation/onnx/DeepLabV3Plus.onnx', 224,smp.DeepLabV3Plus('mobilenet_v2', in_channels=3, classes=4))\n",
    "torch2onnx('../../model/segmentation/NestedUNet_callback.pt', '../../model/segmentation/onnx/NestedUNet.onnx',224 ,smp.UnetPlusPlus('mobilenet_v2', in_channels=3, classes=4))\n",
    "torch2onnx('../../model/segmentation/PAN_callback.pt', '../../model/segmentation/onnx/PAN.onnx', 224,smp.PAN('mobilenet_v2', in_channels=3, classes=4))\n",
    "torch2onnx('../../model/segmentation/UNet_callback.pt', '../../model/segmentation/onnx/Unet.onnx', 224,smp.Unet('mobilenet_v2', in_channels=3, classes=4))\n"
   ]
  },
  {
   "cell_type": "markdown",
   "metadata": {},
   "source": [
    "Onnx to TF"
   ]
  },
  {
   "cell_type": "code",
   "execution_count": 3,
   "metadata": {},
   "outputs": [
    {
     "name": "stderr",
     "output_type": "stream",
     "text": [
      "WARNING:absl:Found untraced functions such as gen_tensor_dict while saving (showing 1 of 1). These functions will not be directly callable after loading.\n"
     ]
    },
    {
     "name": "stdout",
     "output_type": "stream",
     "text": [
      "INFO:tensorflow:Assets written to: ../../model/segmentation/tf/DeepLabV3Plus/assets\n"
     ]
    },
    {
     "name": "stderr",
     "output_type": "stream",
     "text": [
      "INFO:tensorflow:Assets written to: ../../model/segmentation/tf/DeepLabV3Plus/assets\n",
      "WARNING:absl:Found untraced functions such as gen_tensor_dict while saving (showing 1 of 1). These functions will not be directly callable after loading.\n"
     ]
    },
    {
     "name": "stdout",
     "output_type": "stream",
     "text": [
      "INFO:tensorflow:Assets written to: ../../model/segmentation/tf/NestedUNet/assets\n"
     ]
    },
    {
     "name": "stderr",
     "output_type": "stream",
     "text": [
      "INFO:tensorflow:Assets written to: ../../model/segmentation/tf/NestedUNet/assets\n",
      "WARNING:absl:Found untraced functions such as gen_tensor_dict while saving (showing 1 of 1). These functions will not be directly callable after loading.\n"
     ]
    },
    {
     "name": "stdout",
     "output_type": "stream",
     "text": [
      "INFO:tensorflow:Assets written to: ../../model/segmentation/tf/PAN/assets\n"
     ]
    },
    {
     "name": "stderr",
     "output_type": "stream",
     "text": [
      "INFO:tensorflow:Assets written to: ../../model/segmentation/tf/PAN/assets\n",
      "WARNING:absl:Found untraced functions such as gen_tensor_dict while saving (showing 1 of 1). These functions will not be directly callable after loading.\n"
     ]
    },
    {
     "name": "stdout",
     "output_type": "stream",
     "text": [
      "INFO:tensorflow:Assets written to: ../../model/segmentation/tf/Unet/assets\n"
     ]
    },
    {
     "name": "stderr",
     "output_type": "stream",
     "text": [
      "INFO:tensorflow:Assets written to: ../../model/segmentation/tf/Unet/assets\n"
     ]
    }
   ],
   "source": [
    "def onnx2tf(onnx_model_path, tf_model_path):\n",
    "    onnx_model = onnx.load(onnx_model_path)\n",
    "    tf_rep = prepare(onnx_model)\n",
    "    tf_rep.export_graph(tf_model_path)\n",
    "\n",
    "\n",
    "onnx2tf('../../model/segmentation/onnx/DeepLabV3Plus.onnx', '../../model/segmentation/tf/DeepLabV3Plus')\n",
    "onnx2tf('../../model/segmentation/onnx/NestedUNet.onnx', '../../model/segmentation/tf/NestedUNet')\n",
    "onnx2tf('../../model/segmentation/onnx/PAN.onnx', '../../model/segmentation/tf/PAN')\n",
    "onnx2tf('../../model/segmentation/onnx/Unet.onnx', '../../model/segmentation/tf/Unet')"
   ]
  },
  {
   "cell_type": "markdown",
   "metadata": {},
   "source": [
    "TF to TFlite"
   ]
  },
  {
   "cell_type": "code",
   "execution_count": 7,
   "metadata": {},
   "outputs": [
    {
     "name": "stderr",
     "output_type": "stream",
     "text": [
      "2024-02-26 10:36:54.984731: W tensorflow/compiler/mlir/lite/python/tf_tfl_flatbuffer_helpers.cc:364] Ignored output_format.\n",
      "2024-02-26 10:36:54.984805: W tensorflow/compiler/mlir/lite/python/tf_tfl_flatbuffer_helpers.cc:367] Ignored drop_control_dependency.\n",
      "2024-02-26 10:36:54.987401: I tensorflow/cc/saved_model/reader.cc:45] Reading SavedModel from: ../../model/segmentation/tf/DeepLabV3Plus\n",
      "2024-02-26 10:36:55.146977: I tensorflow/cc/saved_model/reader.cc:89] Reading meta graph with tags { serve }\n",
      "2024-02-26 10:36:55.147046: I tensorflow/cc/saved_model/reader.cc:130] Reading SavedModel debug info (if present) from: ../../model/segmentation/tf/DeepLabV3Plus\n",
      "2024-02-26 10:36:55.164727: I tensorflow/compiler/mlir/mlir_graph_optimization_pass.cc:353] MLIR V1 optimization pass is not enabled\n",
      "2024-02-26 10:36:55.166835: I tensorflow/cc/saved_model/loader.cc:231] Restoring SavedModel bundle.\n",
      "2024-02-26 10:36:55.224802: I tensorflow/cc/saved_model/loader.cc:215] Running initialization op on SavedModel bundle at path: ../../model/segmentation/tf/DeepLabV3Plus\n",
      "2024-02-26 10:36:55.261260: I tensorflow/cc/saved_model/loader.cc:314] SavedModel load for tags { serve }; Status: success: OK. Took 273860 microseconds.\n",
      "2024-02-26 10:36:55.363778: I tensorflow/compiler/mlir/tensorflow/utils/dump_mlir_util.cc:269] disabling MLIR crash reproducer, set env var `MLIR_CRASH_REPRODUCER_DIRECTORY` to enable.\n",
      "2024-02-26 10:36:55.599708: I tensorflow/compiler/mlir/lite/flatbuffer_export.cc:2116] Estimated count of arithmetic ops: 2.285 G  ops, equivalently 1.142 G  MACs\n",
      "2024-02-26 10:36:57.843830: W tensorflow/compiler/mlir/lite/python/tf_tfl_flatbuffer_helpers.cc:364] Ignored output_format.\n",
      "2024-02-26 10:36:57.843904: W tensorflow/compiler/mlir/lite/python/tf_tfl_flatbuffer_helpers.cc:367] Ignored drop_control_dependency.\n",
      "2024-02-26 10:36:57.847725: I tensorflow/cc/saved_model/reader.cc:45] Reading SavedModel from: ../../model/segmentation/tf/NestedUNet\n",
      "2024-02-26 10:36:58.093515: I tensorflow/cc/saved_model/reader.cc:89] Reading meta graph with tags { serve }\n",
      "2024-02-26 10:36:58.093622: I tensorflow/cc/saved_model/reader.cc:130] Reading SavedModel debug info (if present) from: ../../model/segmentation/tf/NestedUNet\n",
      "2024-02-26 10:36:58.110859: I tensorflow/cc/saved_model/loader.cc:231] Restoring SavedModel bundle.\n",
      "2024-02-26 10:36:58.152785: I tensorflow/cc/saved_model/loader.cc:215] Running initialization op on SavedModel bundle at path: ../../model/segmentation/tf/NestedUNet\n",
      "2024-02-26 10:36:58.199246: I tensorflow/cc/saved_model/loader.cc:314] SavedModel load for tags { serve }; Status: success: OK. Took 351522 microseconds.\n",
      "2024-02-26 10:36:58.581414: I tensorflow/compiler/mlir/lite/flatbuffer_export.cc:2116] Estimated count of arithmetic ops: 6.857 G  ops, equivalently 3.429 G  MACs\n",
      "2024-02-26 10:36:59.982494: W tensorflow/compiler/mlir/lite/python/tf_tfl_flatbuffer_helpers.cc:364] Ignored output_format.\n",
      "2024-02-26 10:36:59.982573: W tensorflow/compiler/mlir/lite/python/tf_tfl_flatbuffer_helpers.cc:367] Ignored drop_control_dependency.\n",
      "2024-02-26 10:36:59.985060: I tensorflow/cc/saved_model/reader.cc:45] Reading SavedModel from: ../../model/segmentation/tf/PAN\n",
      "2024-02-26 10:37:00.077928: I tensorflow/cc/saved_model/reader.cc:89] Reading meta graph with tags { serve }\n",
      "2024-02-26 10:37:00.077993: I tensorflow/cc/saved_model/reader.cc:130] Reading SavedModel debug info (if present) from: ../../model/segmentation/tf/PAN\n",
      "2024-02-26 10:37:00.091050: I tensorflow/cc/saved_model/loader.cc:231] Restoring SavedModel bundle.\n",
      "2024-02-26 10:37:00.136122: I tensorflow/cc/saved_model/loader.cc:215] Running initialization op on SavedModel bundle at path: ../../model/segmentation/tf/PAN\n",
      "2024-02-26 10:37:00.177128: I tensorflow/cc/saved_model/loader.cc:314] SavedModel load for tags { serve }; Status: success: OK. Took 192070 microseconds.\n",
      "2024-02-26 10:37:00.531018: I tensorflow/compiler/mlir/lite/flatbuffer_export.cc:2116] Estimated count of arithmetic ops: 1.179 G  ops, equivalently 0.589 G  MACs\n",
      "2024-02-26 10:37:02.004229: W tensorflow/compiler/mlir/lite/python/tf_tfl_flatbuffer_helpers.cc:364] Ignored output_format.\n",
      "2024-02-26 10:37:02.004298: W tensorflow/compiler/mlir/lite/python/tf_tfl_flatbuffer_helpers.cc:367] Ignored drop_control_dependency.\n",
      "2024-02-26 10:37:02.006459: I tensorflow/cc/saved_model/reader.cc:45] Reading SavedModel from: ../../model/segmentation/tf/Unet\n",
      "2024-02-26 10:37:02.240860: I tensorflow/cc/saved_model/reader.cc:89] Reading meta graph with tags { serve }\n",
      "2024-02-26 10:37:02.240959: I tensorflow/cc/saved_model/reader.cc:130] Reading SavedModel debug info (if present) from: ../../model/segmentation/tf/Unet\n",
      "2024-02-26 10:37:02.255987: I tensorflow/cc/saved_model/loader.cc:231] Restoring SavedModel bundle.\n",
      "2024-02-26 10:37:02.290134: I tensorflow/cc/saved_model/loader.cc:215] Running initialization op on SavedModel bundle at path: ../../model/segmentation/tf/Unet\n",
      "2024-02-26 10:37:02.323403: I tensorflow/cc/saved_model/loader.cc:314] SavedModel load for tags { serve }; Status: success: OK. Took 316944 microseconds.\n",
      "2024-02-26 10:37:02.691153: I tensorflow/compiler/mlir/lite/flatbuffer_export.cc:2116] Estimated count of arithmetic ops: 5.176 G  ops, equivalently 2.588 G  MACs\n"
     ]
    }
   ],
   "source": [
    "\n",
    "def tf2tflite(saved_model_dir, tflite_model_path):\n",
    "    # Convert the model\n",
    "    converter = tf.lite.TFLiteConverter.from_saved_model(saved_model_dir)\n",
    "    tflite_model = converter.convert()\n",
    "\n",
    "    # Save the model\n",
    "    with open(tflite_model_path, 'wb') as f:\n",
    "        f.write(tflite_model)\n",
    "        \n",
    "tf2tflite('../../model/segmentation/tf/DeepLabV3Plus', '../../model/segmentation/tflite/DeepLabV3Plus.tflite')\n",
    "tf2tflite('../../model/segmentation/tf/NestedUNet', '../../model/segmentation/tflite/NestedUNet.tflite')\n",
    "tf2tflite('../../model/segmentation/tf/PAN', '../../model/segmentation/tflite/PAN.tflite')\n",
    "tf2tflite('../../model/segmentation/tf/Unet', '../../model/segmentation/tflite/Unet.tflite')"
   ]
  }
 ],
 "metadata": {
  "kernelspec": {
   "display_name": "LeeYS",
   "language": "python",
   "name": "python3"
  },
  "language_info": {
   "codemirror_mode": {
    "name": "ipython",
    "version": 3
   },
   "file_extension": ".py",
   "mimetype": "text/x-python",
   "name": "python",
   "nbconvert_exporter": "python",
   "pygments_lexer": "ipython3",
   "version": "3.9.0"
  }
 },
 "nbformat": 4,
 "nbformat_minor": 2
}
