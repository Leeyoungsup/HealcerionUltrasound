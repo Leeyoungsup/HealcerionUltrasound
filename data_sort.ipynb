{
 "cells": [
  {
   "cell_type": "code",
   "execution_count": 14,
   "metadata": {},
   "outputs": [],
   "source": [
    "from glob import glob\n",
    "import os\n",
    "import shutil\n",
    "\n",
    "def createDirectory(directory):\n",
    "    try:\n",
    "        if not os.path.exists(directory):\n",
    "            os.makedirs(directory)\n",
    "    except OSError:\n",
    "        print(\"Error: Failed to create the directory.\")\n"
   ]
  },
  {
   "cell_type": "code",
   "execution_count": 18,
   "metadata": {},
   "outputs": [],
   "source": [
    "DDH_case=glob('../../data/DDH/**')\n",
    "case_dst_DDH_case=[f.replace('/DDH', '/class_DDH/raw') for f in DDH_case]\n",
    "for i in range(len(case_dst_DDH_case)):\n",
    "    createDirectory(case_dst_DDH_case[i]+'/data')\n",
    "case_dst_DDH_case=[f.replace('/DDH', '/class_DDH/origin.raw') for f in DDH_case]\n",
    "for i in range(len(case_dst_DDH_case)):\n",
    "    createDirectory(case_dst_DDH_case[i]+'/data')"
   ]
  },
  {
   "cell_type": "code",
   "execution_count": null,
   "metadata": {},
   "outputs": [],
   "source": [
    "i=0\n",
    "case_index=i+1\n",
    "DDH_original=glob('../../data/DDH/'+str(case_index)+'/**/**/')\n",
    "DDH_original.sort(reverse=False)\n",
    "image_count=0\n",
    "j=0\n",
    "file_list=glob(DDH_original[j]+'/*.bmp')\n",
    "file_list"
   ]
  },
  {
   "cell_type": "code",
   "execution_count": 23,
   "metadata": {},
   "outputs": [
    {
     "data": {
      "text/plain": [
       "['../../data/DDH/1/1680829748.633446/1680829748270/',\n",
       " '../../data/DDH/1/1680829798.633448/1680829798884/',\n",
       " '../../data/DDH/1/1680829857.633450/1680829857404/']"
      ]
     },
     "execution_count": 23,
     "metadata": {},
     "output_type": "execute_result"
    }
   ],
   "source": []
  }
 ],
 "metadata": {
  "kernelspec": {
   "display_name": "LeeYS",
   "language": "python",
   "name": "python3"
  },
  "language_info": {
   "codemirror_mode": {
    "name": "ipython",
    "version": 3
   },
   "file_extension": ".py",
   "mimetype": "text/x-python",
   "name": "python",
   "nbconvert_exporter": "python",
   "pygments_lexer": "ipython3",
   "version": "3.9.0"
  }
 },
 "nbformat": 4,
 "nbformat_minor": 2
}
