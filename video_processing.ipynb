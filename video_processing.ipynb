{
 "cells": [
  {
   "cell_type": "code",
   "execution_count": null,
   "metadata": {},
   "outputs": [],
   "source": [
    "import cv2\n",
    "import numpy as np \n",
    "import pandas as pd \n",
    "import os\n",
    "from PIL import Image\n",
    "from tensorflow.keras.applications.resnet50 import ResNet50\n",
    "import tensorflow as tf\n",
    "import tensorflow.keras as K\n",
    "from tensorflow.keras import datasets, layers, models, losses, Model\n",
    "from sklearn.model_selection import train_test_split\n",
    "from sklearn import preprocessing as pre\n",
    "from glob import glob\n",
    "import json\n",
    "from PIL import ImageDraw\n",
    "from copy import copy\n",
    "from PIL import ImageFont\n",
    "import time\n",
    "font = ImageFont.truetype(\"/usr/share/fonts/dejavu/DejaVuSans.ttf\", 15)\n",
    "os.environ[\"CUDA_VISIBLE_DEVICES\"] = '0'"
   ]
  },
  {
   "cell_type": "code",
   "execution_count": null,
   "metadata": {},
   "outputs": [],
   "source": [
    "model = K.models.load_model('../../model/resnet50_preprocessing_checkpoints.h5')"
   ]
  },
  {
   "cell_type": "code",
   "execution_count": null,
   "metadata": {},
   "outputs": [],
   "source": [
    "filepath = glob('../../data/task_0421_p20_backup_2023_05_10_13_31_48/data/*.jpg')\n",
    "save_path= [f.replace('/task_0421_p20_backup_2023_05_10_13_31_48/data', '/video/image1') for f in filepath]\n"
   ]
  },
  {
   "cell_type": "code",
   "execution_count": null,
   "metadata": {},
   "outputs": [],
   "source": [
    "\n",
    "def expand2square(pil_img, background_color):\n",
    "    width, height = pil_img.size\n",
    "    if width == height:\n",
    "        return pil_img\n",
    "    elif width > height:\n",
    "        result = Image.new(pil_img.mode, (width, width), background_color)\n",
    "        result.paste(pil_img, (0, (width - height) // 2))\n",
    "        return result\n",
    "    else:\n",
    "        result = Image.new(pil_img.mode, (height, height), background_color)\n",
    "        result.paste(pil_img, ((height - width) // 2, 0))\n",
    "        return result\n",
    "\n",
    "\n",
    "for i in range(len(filepath)):\n",
    "    start = time.time()\n",
    "    image=Image.open(filepath[i])\n",
    "    dst_image=copy(image)\n",
    "    image=image.crop((196,128,508,640))\n",
    "    image=image.resize((156,256))\n",
    "    image=expand2square(image,(0,0,0))\n",
    "    image=np.array(image).reshape(1,256,256,3)/255\n",
    "    pred=model.predict(image)\n",
    "    draw = ImageDraw.Draw(dst_image)\n",
    "    if pred>0.449:\n",
    "        text=\"standardFrame\"+str(pred)\n",
    "        fill1=\"green\"\n",
    "        draw.rectangle((0,0,dst_image.size[0],dst_image.size[1]), outline=(0,255,0), width = 3)\n",
    "    else :\n",
    "        text=\"Not standardFrame\"+str(pred)\n",
    "        fill1=\"red\"\n",
    "        draw.rectangle((0,0,dst_image.size[0],dst_image.size[1]), outline=(255,0,0), width = 3)\n",
    "        \n",
    "    draw.text((10,10), text, font=font, fill=fill1)\n",
    "    \n",
    "    end = time.time()\n",
    "    draw.text((10,25), f\"{end - start:.5f} sec\", font=font, fill=fill1)\n",
    "    draw = ImageDraw.Draw(dst_image)\n",
    "    dst_image.save(save_path[i])"
   ]
  },
  {
   "cell_type": "code",
   "execution_count": null,
   "metadata": {},
   "outputs": [],
   "source": [
    "length = int(video.get(cv2.CAP_PROP_FRAME_COUNT))\n",
    "width = int(video.get(cv2.CAP_PROP_FRAME_WIDTH))\n",
    "height = int(video.get(cv2.CAP_PROP_FRAME_HEIGHT))\n",
    "fps = video.get(cv2.CAP_PROP_FPS)\n",
    "print(\"length :\", length)\n",
    "print(\"width :\", width)\n",
    "print(\"height :\", height)\n",
    "print(\"fps :\", fps)"
   ]
  }
 ],
 "metadata": {
  "kernelspec": {
   "display_name": "LeeYS",
   "language": "python",
   "name": "python3"
  },
  "language_info": {
   "codemirror_mode": {
    "name": "ipython",
    "version": 3
   },
   "file_extension": ".py",
   "mimetype": "text/x-python",
   "name": "python",
   "nbconvert_exporter": "python",
   "pygments_lexer": "ipython3",
   "version": "3.9.15"
  },
  "orig_nbformat": 4
 },
 "nbformat": 4,
 "nbformat_minor": 2
}
