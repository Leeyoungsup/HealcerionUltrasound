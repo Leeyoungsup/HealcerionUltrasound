{
 "cells": [
  {
   "cell_type": "code",
   "execution_count": null,
   "metadata": {},
   "outputs": [],
   "source": [
    "import json\n",
    "import pandas as pd \n",
    "import numpy as np \n",
    "from glob import glob\n",
    "import os\n",
    "import matplotlib.pyplot as plt\n",
    "import shutil"
   ]
  },
  {
   "cell_type": "code",
   "execution_count": null,
   "metadata": {},
   "outputs": [],
   "source": [
    "folder_path=glob(\"../../data/*\")\n",
    "data1_img_path=glob(folder_path[0]+\"/data/*.jpg\")\n",
    "data2_img_path=glob(folder_path[1]+\"/data/*.jpg\")\n",
    "data3_img_path=glob(folder_path[2]+\"/data/*.jpg\")\n",
    "data4_img_path=glob(folder_path[3]+\"/data/*.jpg\")\n",
    "\n",
    "def AnnotationsPd(annotations):\n",
    "    values_list = []\n",
    "    names_list = [] \n",
    "    df = pd.DataFrame(annotations['tags'])\n",
    "    for row in df['attributes']:\n",
    "        values_list.append(row[0]['value'])\n",
    "        names_list.append(row[0]['name'])\n",
    "\n",
    "    df=df.drop(['attributes'],axis=1)   \n",
    "    df.insert(3,'value',values_list)\n",
    "    df.insert(4,'name',names_list)\n",
    "    return df\n",
    "\n"
   ]
  },
  {
   "cell_type": "code",
   "execution_count": null,
   "metadata": {},
   "outputs": [],
   "source": [
    "file1=[]\n",
    "file2=[]\n",
    "file3=[]\n",
    "file4=[]\n",
    "with open(folder_path[0]+'/annotations.json') as f:\n",
    "    annotations_json = json.load(f)\n",
    "std_frame=AnnotationsPd(annotations_json[0])['frame']\n",
    "for frame in std_frame:\n",
    "    file= [s for s in data1_img_path if str(frame).zfill(5) in s] \n",
    "    file1.append(file[0])\n",
    "file1=list(set(file1))\n",
    "\n",
    "with open(folder_path[1]+'/annotations.json') as f:\n",
    "    annotations_json = json.load(f)   \n",
    "std_frame=AnnotationsPd(annotations_json[0])['frame']\n",
    "for frame in std_frame:\n",
    "    file= [s for s in data2_img_path if str(frame).zfill(5) in s] \n",
    "    file2.append(file[0])\n",
    "file2=list(set(file2))\n",
    "\n",
    "with open(folder_path[2]+'/annotations.json') as f:\n",
    "    annotations_json = json.load(f)    \n",
    "std_frame=AnnotationsPd(annotations_json[0])['frame']\n",
    "for frame in std_frame:\n",
    "    file= [s for s in data3_img_path if str(frame).zfill(5) in s] \n",
    "    file3.append(file[0])\n",
    "file3=list(set(file3))\n",
    "\n",
    "with open(folder_path[3]+'/annotations.json') as f:\n",
    "    annotations_json = json.load(f)    \n",
    "std_frame=AnnotationsPd(annotations_json[0])['frame']\n",
    "for frame in std_frame:\n",
    "    file= [s for s in data4_img_path if str(frame).zfill(5) in s] \n",
    "    file4.append(file[0])\n",
    "file4=list(set(file4))"
   ]
  },
  {
   "cell_type": "code",
   "execution_count": null,
   "metadata": {},
   "outputs": [],
   "source": [
    "standard_file=[]\n",
    "TF_standard=[]\n",
    "for i in range(len(file1)):\n",
    "    shutil.copy(file1[i],'../../data/original_dataset/StandardFrame/data1/'+str(i)+'.jpg')\n",
    "    standard_file.append('StandardFrame/data1/'+str(i)+'.jpg')\n",
    "    TF_standard.append(1)\n",
    "for i in range(len(file2)):\n",
    "    shutil.copy(file2[i],'../../data/original_dataset/StandardFrame/data2/'+str(i)+'.jpg')\n",
    "    standard_file.append('StandardFrame/data1/'+str(i)+'.jpg')\n",
    "    TF_standard.append(1)\n",
    "for i in range(len(file3)):\n",
    "    shutil.copy(file3[i],'../../data/original_dataset/StandardFrame/data3/'+str(i)+'.jpg')\n",
    "    standard_file.append('StandardFrame/data1/'+str(i)+'.jpg')\n",
    "    TF_standard.append(1)\n",
    "for i in range(len(file4)):\n",
    "    shutil.copy(file4[i],'../../data/original_dataset/StandardFrame/data4/'+str(i)+'.jpg')\n",
    "    standard_file.append('StandardFrame/data1/'+str(i)+'.jpg')\n",
    "    TF_standard.append(1)\n",
    "    "
   ]
  },
  {
   "cell_type": "code",
   "execution_count": 70,
   "metadata": {},
   "outputs": [],
   "source": [
    "not_standard_file1=list(set(data1_img_path)-set(file1))\n",
    "not_standard_file2=list(set(data2_img_path)-set(file2))\n",
    "not_standard_file3=list(set(data3_img_path)-set(file3))\n",
    "not_standard_file4=list(set(data4_img_path)-set(file4))\n",
    "\n",
    "for i in range(len(not_standard_file1)):\n",
    "    shutil.copy(not_standard_file1[i],'../../data/original_dataset/NotStandardFrame/data1/'+str(i)+'.jpg')\n",
    "    standard_file.append('NotStandardFrame/data1/'+str(i)+'.jpg')\n",
    "    TF_standard.append(0)\n",
    "for i in range(len(not_standard_file2)):\n",
    "    shutil.copy(not_standard_file2[i],'../../data/original_dataset/NotStandardFrame/data2/'+str(i)+'.jpg')\n",
    "    standard_file.append('NotStandardFrame/data2/'+str(i)+'.jpg')\n",
    "    TF_standard.append(0)\n",
    "for i in range(len(not_standard_file3)):\n",
    "    shutil.copy(not_standard_file3[i],'../../data/original_dataset/NotStandardFrame/data3/'+str(i)+'.jpg')\n",
    "    standard_file.append('NotStandardFrame/data3/'+str(i)+'.jpg')\n",
    "    TF_standard.append(0)\n",
    "for i in range(len(not_standard_file4)):\n",
    "    shutil.copy(not_standard_file4[i],'../../data/original_dataset/NotStandardFrame/data4/'+str(i)+'.jpg')\n",
    "    standard_file.append('NotStandardFrame/data4/'+str(i)+'.jpg')\n",
    "    TF_standard.append(0)"
   ]
  },
  {
   "cell_type": "code",
   "execution_count": 73,
   "metadata": {},
   "outputs": [],
   "source": [
    "original_standard_frame = pd.DataFrame({'file_path':standard_file,\n",
    "                             'standard_frame':TF_standard})\n"
   ]
  },
  {
   "cell_type": "code",
   "execution_count": 74,
   "metadata": {},
   "outputs": [],
   "source": [
    "original_standard_frame.to_csv('../../data/original_dataset/data_set.csv', index = None) #csv파일로 생성"
   ]
  }
 ],
 "metadata": {
  "kernelspec": {
   "display_name": "LeeYS_tf210",
   "language": "python",
   "name": "python3"
  },
  "language_info": {
   "codemirror_mode": {
    "name": "ipython",
    "version": 3
   },
   "file_extension": ".py",
   "mimetype": "text/x-python",
   "name": "python",
   "nbconvert_exporter": "python",
   "pygments_lexer": "ipython3",
   "version": "3.9.15"
  },
  "orig_nbformat": 4
 },
 "nbformat": 4,
 "nbformat_minor": 2
}
