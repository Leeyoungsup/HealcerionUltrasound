{
 "cells": [
  {
   "cell_type": "code",
   "execution_count": 1,
   "metadata": {},
   "outputs": [
    {
     "name": "stderr",
     "output_type": "stream",
     "text": [
      "2023-06-26 17:22:02.673547: I tensorflow/core/platform/cpu_feature_guard.cc:193] This TensorFlow binary is optimized with oneAPI Deep Neural Network Library (oneDNN) to use the following CPU instructions in performance-critical operations:  AVX2 FMA\n",
      "To enable them in other operations, rebuild TensorFlow with the appropriate compiler flags.\n",
      "2023-06-26 17:22:02.794288: E tensorflow/stream_executor/cuda/cuda_blas.cc:2981] Unable to register cuBLAS factory: Attempting to register factory for plugin cuBLAS when one has already been registered\n",
      "2023-06-26 17:22:03.234005: W tensorflow/stream_executor/platform/default/dso_loader.cc:64] Could not load dynamic library 'libnvinfer.so.7'; dlerror: libnvinfer.so.7: cannot open shared object file: No such file or directory; LD_LIBRARY_PATH: /usr/local/cuda-11.2/lib64:/usr/local/cuda-11.6/lib64:/home/gil/anaconda3/envs/LeeYS/lib/\n",
      "2023-06-26 17:22:03.234119: W tensorflow/stream_executor/platform/default/dso_loader.cc:64] Could not load dynamic library 'libnvinfer_plugin.so.7'; dlerror: libnvinfer_plugin.so.7: cannot open shared object file: No such file or directory; LD_LIBRARY_PATH: /usr/local/cuda-11.2/lib64:/usr/local/cuda-11.6/lib64:/home/gil/anaconda3/envs/LeeYS/lib/\n",
      "2023-06-26 17:22:03.234126: W tensorflow/compiler/tf2tensorrt/utils/py_utils.cc:38] TF-TRT Warning: Cannot dlopen some TensorRT libraries. If you would like to use Nvidia GPU with TensorRT, please make sure the missing libraries mentioned above are installed properly.\n"
     ]
    }
   ],
   "source": [
    "import cv2\n",
    "import numpy as np \n",
    "import pandas as pd \n",
    "import os\n",
    "from PIL import Image\n",
    "from tensorflow.keras.applications.resnet50 import ResNet50\n",
    "import tensorflow as tf\n",
    "import tensorflow.keras as K\n",
    "from tensorflow.keras import datasets, layers, models, losses, Model\n",
    "from sklearn.model_selection import train_test_split\n",
    "os.environ[\"CUDA_VISIBLE_DEVICES\"] = '2,3'\n"
   ]
  },
  {
   "cell_type": "code",
   "execution_count": 3,
   "metadata": {},
   "outputs": [],
   "source": [
    "input_img_size = (512,512, 3)\n",
    "pd_img_list=pd.read_csv('../../data/preprocessing_dataset/data_set.csv')['file_path']\n",
    "img_list=pd_img_list.to_list()\n",
    "pd_label_list=pd.read_csv('../../data/preprocessing_dataset/data_set.csv')['standard_frame']\n",
    "label_list=pd_label_list.to_list()"
   ]
  },
  {
   "cell_type": "code",
   "execution_count": 5,
   "metadata": {},
   "outputs": [],
   "source": [
    "size=512\n",
    "x = np.zeros((len(img_list),size,size,3))\n",
    "y = np.zeros((len(label_list),1))\n",
    "for i in range(len(img_list)):\n",
    "    x[i] =np.array(Image.open('../../data/preprocessing_dataset/'+img_list[i]).resize((size,size)))\n",
    "y=np.array(label_list)\n",
    "\n",
    "x_train, x_test, y_train, y_test = train_test_split(x, y, test_size=0.2, random_state=42)\n"
   ]
  },
  {
   "cell_type": "code",
   "execution_count": 7,
   "metadata": {},
   "outputs": [
    {
     "name": "stdout",
     "output_type": "stream",
     "text": [
      "INFO:tensorflow:Using MirroredStrategy with devices ('/job:localhost/replica:0/task:0/device:GPU:0', '/job:localhost/replica:0/task:0/device:GPU:1')\n"
     ]
    },
    {
     "name": "stderr",
     "output_type": "stream",
     "text": [
      "/home/gil/anaconda3/envs/LeeYS/lib/python3.9/site-packages/keras/optimizers/optimizer_v2/adam.py:114: UserWarning: The `lr` argument is deprecated, use `learning_rate` instead.\n",
      "  super().__init__(name, **kwargs)\n"
     ]
    }
   ],
   "source": [
    "\n",
    "checkpoint_filepath = \"../../model/resnet50_preprocessing_checkpoints_{epoch:03d}.tf\"\n",
    "model_checkpoint_callback = tf.keras.callbacks.ModelCheckpoint(\n",
    "    filepath=checkpoint_filepath,\n",
    "    save_weights_only= True\n",
    ")\n",
    "class_weight = {\"standard_frame\": 0.15,\n",
    "                \"not_standard_frame\": 0.85}\n",
    "mirrored_strategy = tf.distribute.MirroredStrategy(devices=['/GPU:0','/GPU:1'])\n",
    "with mirrored_strategy.scope(): \n",
    "    input_t=K.Input(shape=(size,size, 3))\n",
    "    input_tensor = layers.experimental.preprocessing.Resizing(size, size, interpolation=\"bilinear\", input_shape=x_train.shape[1:])(input_t)\n",
    "    ResNet=ResNet50(include_top=True,weights='imagenet',input_tensor=input_tensor)\n",
    "    model = K.models.Sequential()\n",
    "    model.add(ResNet)\n",
    "    model.add(tf.keras.layers.Dropout(.2, input_shape=(64,)))\n",
    "    model.add(K.layers.Dense(64, activation=tf.keras.layers.LeakyReLU(alpha=0.1)))\n",
    "    model.add(K.layers.Dense(1, activation='sigmoid'))\n",
    "    model.compile(optimizer=K.optimizers.Adam(lr=1e-3),\n",
    "                  loss=tf.keras.losses.binary_crossentropy,\n",
    "                  metrics=[\"accuracy\"])\n",
    "    histo=model.fit(\n",
    "        x_train,y_train,\n",
    "        validation_data=(x_test,y_test),\n",
    "        epochs=500,\n",
    "        callbacks=[model_checkpoint_callback],\n",
    "        batch_size=16,shuffle=True,\n",
    "        class_weight=class_weight\n",
    "    )\n",
    "model.save('../../model/ResNet50_preprocessing512.h5')"
   ]
  }
 ],
 "metadata": {
  "kernelspec": {
   "display_name": "LeeYS_torch",
   "language": "python",
   "name": "python3"
  },
  "language_info": {
   "codemirror_mode": {
    "name": "ipython",
    "version": 3
   },
   "file_extension": ".py",
   "mimetype": "text/x-python",
   "name": "python",
   "nbconvert_exporter": "python",
   "pygments_lexer": "ipython3",
   "version": "3.9.15"
  },
  "orig_nbformat": 4
 },
 "nbformat": 4,
 "nbformat_minor": 2
}
