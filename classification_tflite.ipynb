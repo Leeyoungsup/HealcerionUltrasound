{
 "cells": [
  {
   "cell_type": "code",
   "execution_count": 18,
   "metadata": {},
   "outputs": [],
   "source": [
    "import tensorflow as tf\n",
    "import numpy as np\n",
    "import os\n",
    "from tensorflow.python.client import device_lib\n",
    "import pandas as pd\n",
    "from tqdm.auto import tqdm\n",
    "from PIL import Image\n",
    "size = 224\n",
    "os.environ[\"CUDA_VISIBLE_DEVICES\"] = \"0\"\n"
   ]
  },
  {
   "cell_type": "code",
   "execution_count": 19,
   "metadata": {},
   "outputs": [],
   "source": [
    "def keras2TFlite(model_path,name):\n",
    "    #load a pre-trained model\n",
    "    with tf.device('/gpu:0'):\n",
    "        model = tf.keras.models.load_model(model_path)\n",
    "        #convert the model\n",
    "        converter = tf.lite.TFLiteConverter.from_keras_model(model)\n",
    "        tflite_model = converter.convert()\n",
    "        #save the converted model\n",
    "        with open('../../model/classification/tflite/'+name+'.tflite', 'wb') as f:\n",
    "            f.write(tflite_model)\n",
    "        print('Model converted successfully')\n",
    "\n",
    "def createDirectory(directory):\n",
    "    \"\"\"_summary_\n",
    "        create Directory\n",
    "    Args:\n",
    "        directory (string): file_path\n",
    "    \"\"\"    \n",
    "    try:\n",
    "        if not os.path.exists(directory):\n",
    "            os.makedirs(directory)\n",
    "    except OSError:\n",
    "        print(\"Error: Failed to create the directory.\")\n",
    "# keras2TFlite('../../model/classification/MobileNetV2_checkpoints.h5','MobileNetV2')\n",
    "# keras2TFlite('../../model/classification/MobileNetV1_acc_checkpoints.h5','MobileNetV1')\n",
    "# keras2TFlite('../../model/classification/DenseNet121_checkpoints.h5','DenseNet121')\n",
    "# keras2TFlite('../../model/classification/EfficientNetV2B0_checkpoints.h5','EfficientNetV2B0')\n",
    "# keras2TFlite('../../model/classification/NASNetMobile_checkpoints.h5','NASNetMobile')\n",
    "# keras2TFlite('../../model/classification/ResNet50_checkpoints.h5','ResNet50')        "
   ]
  },
  {
   "cell_type": "code",
   "execution_count": 20,
   "metadata": {},
   "outputs": [
    {
     "data": {
      "application/vnd.jupyter.widget-view+json": {
       "model_id": "40244f78111846b2a64aa83f9be23949",
       "version_major": 2,
       "version_minor": 0
      },
      "text/plain": [
       "  0%|          | 0/3476 [00:00<?, ?it/s]"
      ]
     },
     "metadata": {},
     "output_type": "display_data"
    }
   ],
   "source": [
    "\n",
    "test_df = pd.read_csv(\n",
    "    '../../data/classificationDDH/test_aug_classification_dataset.csv')\n",
    "\n",
    "\n",
    "test_img_list = test_df['file name'].to_list()\n",
    "test_label_list = test_df['standard class'].to_list()\n",
    "test_case_list = test_df['case'].to_list()\n",
    "test_img_path = '../../data/classificationDDH/aug_dataset/test/'\n",
    "\n",
    "\n",
    "x_test = np.zeros((len(test_img_list), size, size, 3), dtype=np.uint8)\n",
    "for i in tqdm(range(len(test_img_list))):\n",
    "    x_test[i] = np.array(Image.open(\n",
    "        test_img_path+str(test_case_list[i])+'/'+test_img_list[i]).resize((size, size)))\n",
    "y_test = np.array(test_label_list)"
   ]
  },
  {
   "cell_type": "code",
   "execution_count": null,
   "metadata": {},
   "outputs": [],
   "source": []
  }
 ],
 "metadata": {
  "kernelspec": {
   "display_name": "LeeYS",
   "language": "python",
   "name": "python3"
  },
  "language_info": {
   "codemirror_mode": {
    "name": "ipython",
    "version": 3
   },
   "file_extension": ".py",
   "mimetype": "text/x-python",
   "name": "python",
   "nbconvert_exporter": "python",
   "pygments_lexer": "ipython3",
   "version": "3.9.0"
  }
 },
 "nbformat": 4,
 "nbformat_minor": 2
}
