{
 "cells": [
  {
   "cell_type": "code",
   "execution_count": null,
   "metadata": {},
   "outputs": [],
   "source": [
    "import tensorflow as tf\n",
    "import numpy as np\n",
    "import os\n",
    "from tensorflow.python.client import device_lib\n",
    "import pandas as pd\n",
    "from tqdm.auto import tqdm\n",
    "from PIL import Image\n",
    "import time\n",
    "import matplotlib.pyplot as plt\n",
    "from sklearn.metrics import roc_curve\n",
    "from sklearn.metrics import roc_auc_score\n",
    "from math import isnan\n",
    "from numpy import average\n",
    "from sklearn.metrics import confusion_matrix, accuracy_score, precision_score, recall_score, f1_score\n",
    "from sklearn.utils import resample\n",
    "import warnings\n",
    "size = 224\n",
    "os.environ[\"CUDA_VISIBLE_DEVICES\"] = \"0\"\n"
   ]
  },
  {
   "cell_type": "code",
   "execution_count": 32,
   "metadata": {},
   "outputs": [],
   "source": [
    "def keras2TFlite(model_path,name):\n",
    "    #load a pre-trained model\n",
    "    with tf.device('/gpu:0'):\n",
    "        model = tf.keras.models.load_model(model_path)\n",
    "        #convert the model\n",
    "        converter = tf.lite.TFLiteConverter.from_keras_model(model)\n",
    "        tflite_model = converter.convert()\n",
    "        #save the converted model\n",
    "        with open('../../model/classification/tflite/'+name+'.tflite', 'wb') as f:\n",
    "            f.write(tflite_model)\n",
    "        print('Model converted successfully')\n",
    "\n",
    "def createDirectory(directory):\n",
    "    \"\"\"_summary_\n",
    "        create Directory\n",
    "    Args:\n",
    "        directory (string): file_path\n",
    "    \"\"\"    \n",
    "    try:\n",
    "        if not os.path.exists(directory):\n",
    "            os.makedirs(directory)\n",
    "    except OSError:\n",
    "        print(\"Error: Failed to create the directory.\")\n",
    "\n",
    "def TFLiteInference(model_path, name, x_test, y_test):\n",
    "    # Load TFLite model and allocate tensors.\n",
    "    interpreter = tf.lite.Interpreter(model_path=model_path)\n",
    "    interpreter.allocate_tensors()\n",
    "\n",
    "    with tf.device('/gpu:0'):\n",
    "        input_index = interpreter.get_input_details()[0]['index']\n",
    "        output_index  = interpreter.get_output_details()[0]['index']\n",
    "        \n",
    "        sum_correct = 0\n",
    "        sum_time=0\n",
    "        predict=[]\n",
    "        for idx, data in tqdm(enumerate(zip(x_test,y_test))):\n",
    "            img = data[0]\n",
    "            label = data[1]\n",
    "            img= img.astype(np.float32)\n",
    "            img = tf.expand_dims(img, axis=0)\n",
    "            \n",
    "            interpreter.set_tensor(input_index, img)\n",
    "            start_time = time.time()\n",
    "            interpreter.invoke()\n",
    "            \n",
    "            output = interpreter.get_tensor(output_index)\n",
    "            stop_time = time.time()\n",
    "            sum_time += stop_time-start_time\n",
    "            \n",
    "            if (output[0][0]>0.34) == label:\n",
    "                sum_correct += 1.0\n",
    "            predict.append(output[0][0])\n",
    "            mean_acc=sum_correct/float(idx+1)\n",
    "            mean_time=sum_time/float(idx+1)\n",
    "        print('Model: ',name)\n",
    "        print('Mean Accuracy: ',mean_acc)\n",
    "        print('Mean Inference Time: ',mean_time)\n",
    "        return predict\n",
    "# keras2TFlite('../../model/classification/MobileNetV2_checkpoints.h5','MobileNetV2')\n",
    "# keras2TFlite('../../model/classification/MobileNetV1_acc_checkpoints.h5','MobileNetV1')\n",
    "# keras2TFlite('../../model/classification/DenseNet121_checkpoints.h5','DenseNet121')\n",
    "# keras2TFlite('../../model/classification/EfficientNetV2B0_checkpoints.h5','EfficientNetV2B0')\n",
    "# keras2TFlite('../../model/classification/NASNetMobile_checkpoints.h5','NASNetMobile')\n",
    "# keras2TFlite('../../model/classification/ResNet50_checkpoints.h5','ResNet50')        "
   ]
  },
  {
   "cell_type": "code",
   "execution_count": null,
   "metadata": {},
   "outputs": [],
   "source": [
    "\n",
    "test_df = pd.read_csv(\n",
    "    '../../data/classificationDDH/test_aug_classification_dataset.csv')\n",
    "\n",
    "\n",
    "test_img_list = test_df['file name'].to_list()\n",
    "test_label_list = test_df['standard class'].to_list()\n",
    "test_case_list = test_df['case'].to_list()\n",
    "test_img_path = '../../data/classificationDDH/aug_dataset/test/'\n",
    "\n",
    "\n",
    "x_test = np.zeros((len(test_img_list), size, size, 3), dtype=np.uint8)\n",
    "for i in tqdm(range(len(test_img_list))):\n",
    "    x_test[i] = np.array(Image.open(\n",
    "        test_img_path+str(test_case_list[i])+'/'+test_img_list[i]).resize((size, size)))\n",
    "y_test = np.array(test_label_list)"
   ]
  },
  {
   "cell_type": "code",
   "execution_count": 33,
   "metadata": {},
   "outputs": [
    {
     "data": {
      "application/vnd.jupyter.widget-view+json": {
       "model_id": "bc7112f497df41c8a83436c9adb655bf",
       "version_major": 2,
       "version_minor": 0
      },
      "text/plain": [
       "0it [00:00, ?it/s]"
      ]
     },
     "metadata": {},
     "output_type": "display_data"
    },
    {
     "name": "stdout",
     "output_type": "stream",
     "text": [
      "Model:  MobileNetV2\n",
      "Mean Accuracy:  0.8564441887226697\n",
      "Mean Inference Time:  0.015173011805574968\n"
     ]
    },
    {
     "data": {
      "application/vnd.jupyter.widget-view+json": {
       "model_id": "5cf6a281f0e74648808fb1c77946b0c2",
       "version_major": 2,
       "version_minor": 0
      },
      "text/plain": [
       "0it [00:00, ?it/s]"
      ]
     },
     "metadata": {},
     "output_type": "display_data"
    },
    {
     "name": "stdout",
     "output_type": "stream",
     "text": [
      "Model:  MobileNetV1\n",
      "Mean Accuracy:  0.877445339470656\n",
      "Mean Inference Time:  0.010668179382526148\n"
     ]
    },
    {
     "data": {
      "application/vnd.jupyter.widget-view+json": {
       "model_id": "003729d0e34c4f9b8a64f5e58204c39e",
       "version_major": 2,
       "version_minor": 0
      },
      "text/plain": [
       "0it [00:00, ?it/s]"
      ]
     },
     "metadata": {},
     "output_type": "display_data"
    },
    {
     "name": "stdout",
     "output_type": "stream",
     "text": [
      "Model:  DenseNet121\n",
      "Mean Accuracy:  0.8340046029919448\n",
      "Mean Inference Time:  0.14166732706875465\n"
     ]
    },
    {
     "data": {
      "application/vnd.jupyter.widget-view+json": {
       "model_id": "cc21ecad051d4f88825539052034d80f",
       "version_major": 2,
       "version_minor": 0
      },
      "text/plain": [
       "0it [00:00, ?it/s]"
      ]
     },
     "metadata": {},
     "output_type": "display_data"
    },
    {
     "name": "stdout",
     "output_type": "stream",
     "text": [
      "Model:  EfficientNetV2B0\n",
      "Mean Accuracy:  0.8317031070195627\n",
      "Mean Inference Time:  0.019987125391241322\n"
     ]
    },
    {
     "data": {
      "application/vnd.jupyter.widget-view+json": {
       "model_id": "989f642bd639479bb573444601aefa37",
       "version_major": 2,
       "version_minor": 0
      },
      "text/plain": [
       "0it [00:00, ?it/s]"
      ]
     },
     "metadata": {},
     "output_type": "display_data"
    },
    {
     "name": "stdout",
     "output_type": "stream",
     "text": [
      "Model:  NASNetMobile\n",
      "Mean Accuracy:  0.8610471806674338\n",
      "Mean Inference Time:  0.05074461666980739\n"
     ]
    },
    {
     "data": {
      "application/vnd.jupyter.widget-view+json": {
       "model_id": "8a2b2a4a2c9c4832b74e8b657952e097",
       "version_major": 2,
       "version_minor": 0
      },
      "text/plain": [
       "0it [00:00, ?it/s]"
      ]
     },
     "metadata": {},
     "output_type": "display_data"
    },
    {
     "name": "stdout",
     "output_type": "stream",
     "text": [
      "Model:  ResNet50\n",
      "Mean Accuracy:  0.85385500575374\n",
      "Mean Inference Time:  0.1901562161083463\n"
     ]
    }
   ],
   "source": [
    "MobileNetV2_pre=TFLiteInference('../../model/classification/tflite/MobileNetV2.tflite','MobileNetV2',x_test,y_test)\n",
    "MobileNetV1_pre=TFLiteInference('../../model/classification/tflite/MobileNetV1.tflite','MobileNetV1',x_test,y_test)\n",
    "DenseNet121_pre=TFLiteInference('../../model/classification/tflite/DenseNet121.tflite','DenseNet121',x_test,y_test)\n",
    "EfficientNetV2B0_pre=TFLiteInference('../../model/classification/tflite/EfficientNetV2B0.tflite','EfficientNetV2B0',x_test,y_test)\n",
    "NASNetMobile_pre=TFLiteInference('../../model/classification/tflite/NASNetMobile.tflite','NASNetMobile',x_test,y_test)\n",
    "ResNet50_pre=TFLiteInference('../../model/classification/tflite/ResNet50.tflite','ResNet50',x_test,y_test)\n"
   ]
  },
  {
   "cell_type": "code",
   "execution_count": 34,
   "metadata": {},
   "outputs": [
    {
     "ename": "NameError",
     "evalue": "name 'roc_curve' is not defined",
     "output_type": "error",
     "traceback": [
      "\u001b[0;31m---------------------------------------------------------------------------\u001b[0m",
      "\u001b[0;31mNameError\u001b[0m                                 Traceback (most recent call last)",
      "Cell \u001b[0;32mIn[34], line 1\u001b[0m\n\u001b[0;32m----> 1\u001b[0m MobileNetV2_fper,MobileNetV2_tper, thresholds \u001b[38;5;241m=\u001b[39m \u001b[43mroc_curve\u001b[49m(y_test, MobileNetV2_pre)\n\u001b[1;32m      2\u001b[0m MobileNetV1_fper,MobileNetV1_tper, thresholds \u001b[38;5;241m=\u001b[39m roc_curve(y_test, MobileNetV1_pre)\n\u001b[1;32m      3\u001b[0m DenseNet121_fper,DenseNet121_tper, thresholds \u001b[38;5;241m=\u001b[39m roc_curve(y_test, DenseNet121_pre)\n",
      "\u001b[0;31mNameError\u001b[0m: name 'roc_curve' is not defined"
     ]
    }
   ],
   "source": [
    "MobileNetV2_fper,MobileNetV2_tper, thresholds = roc_curve(y_test, MobileNetV2_pre)\n",
    "MobileNetV1_fper,MobileNetV1_tper, thresholds = roc_curve(y_test, MobileNetV1_pre)\n",
    "DenseNet121_fper,DenseNet121_tper, thresholds = roc_curve(y_test, DenseNet121_pre)\n",
    "EfficientNetV2B0_fper,EfficientNetV2B0_tper, thresholds = roc_curve(y_test, EfficientNetV2B0_pre)\n",
    "NASNetMobile_fper,NASNetMobile_tper, thresholds = roc_curve(y_test, NASNetMobile_pre)\n",
    "ResNet50_fper,ResNet50_tper, thresholds = roc_curve(y_test, ResNet50_pre)\n",
    "MobileNetV2_auc_score=roc_auc_score(y_test, MobileNetV2_pre)\n",
    "MobileNetV1_auc_score=roc_auc_score(y_test, MobileNetV1_pre)\n",
    "DenseNet121_auc_score=roc_auc_score(y_test, DenseNet121_pre)\n",
    "EfficientNetV2B0_auc_score=roc_auc_score(y_test, EfficientNetV2B0_pre)\n",
    "NASNetMobile_auc_score=roc_auc_score(y_test, NASNetMobile_pre)\n",
    "ResNet50_auc_score=roc_auc_score(y_test, ResNet50_pre)\n",
    "plt.figure(figsize=(12,10))\n",
    "plt.plot(DenseNet121_fper, DenseNet121_tper,label='DenseNet121(Auc='+str(round(DenseNet121_auc_score, 3))+')',linestyle='--')\n",
    "plt.plot(EfficientNetV2B0_fper, EfficientNetV2B0_tper,label='EfficientNetV2B0(Auc='+str(round(EfficientNetV2B0_auc_score, 3))+')')\n",
    "plt.plot(MobileNetV1_fper, MobileNetV1_tper,label='MobileNetV1(Auc='+str(round(MobileNetV1_auc_score, 3))+')',linestyle='--')\n",
    "plt.plot(MobileNetV2_fper,MobileNetV2_tper,label='MobileNetV2(Auc='+str(round(MobileNetV2_auc_score, 3))+')')\n",
    "plt.plot(ResNet50_fper,ResNet50_tper,label='ResNet50(Auc='+str(round(ResNet50_auc_score, 3))+')',linestyle='--')\n",
    "plt.plot(NASNetMobile_fper,NASNetMobile_tper,label='NASNetMobile(Auc='+str(round(NASNetMobile_auc_score, 3))+')')\n",
    "plt.legend(fontsize=15)\n",
    "plt.xlabel('False positive rate',size=15)\n",
    "plt.ylabel('True positive rate',size=15)\n",
    "plt.xlim([0, 1])      # X축의 범위: [xmin, xmax]\n",
    "plt.ylim([0, 1]) \n"
   ]
  },
  {
   "cell_type": "code",
   "execution_count": null,
   "metadata": {},
   "outputs": [
    {
     "data": {
      "text/plain": [
       "True"
      ]
     },
     "execution_count": 26,
     "metadata": {},
     "output_type": "execute_result"
    }
   ],
   "source": [
    "\n",
    "warnings.filterwarnings('ignore')\n",
    "def weight_metrics(y_true, y_pred):\n",
    "    tn, fp, fn, tp = confusion_matrix(y_true, y_pred).ravel()\n",
    "    sensitivity = tp / (tp + fn*0.25)\n",
    "    specificity = tn / (tn + fp)\n",
    "    precision=tp/ (tp+fp)\n",
    "    f1 = f1_score(y_true, y_pred,average='micro')\n",
    "    weight=f1\n",
    "    \n",
    "    return weight\n",
    "# Define a function to find the optimal threshold\n",
    "def find_optimal_threshold(y_true, y_scores):\n",
    "    thresholds = np.arange(0.01, 1.0, 0.01)\n",
    "    f1_scores = [weight_metrics(y_true, (y_scores >= t).astype(int)) for t in thresholds]\n",
    "    optimal_threshold = thresholds[np.argmax(f1_scores)]\n",
    "    return optimal_threshold\n",
    "\n",
    "# Find optimal threshold for each model\n",
    "MobileNetV2_optimal_threshold = find_optimal_threshold(y_test, MobileNetV2_pre)\n",
    "MobileNetV1_optimal_threshold = find_optimal_threshold(y_test, MobileNetV1_pre)\n",
    "DenseNet121_optimal_threshold = find_optimal_threshold(y_test, DenseNet121_pre)\n",
    "EfficientNetV2B0_optimal_threshold = find_optimal_threshold(y_test, EfficientNetV2B0_pre)\n",
    "NASNetMobile_optimal_threshold = find_optimal_threshold(y_test, NASNetMobile_pre)\n",
    "ResNet50_optimal_threshold = find_optimal_threshold(y_test, ResNet50_pre)\n",
    "# Define a function to calculate metrics\n",
    "def calculate_metrics(y_true, y_pred):\n",
    "    tn, fp, fn, tp = confusion_matrix(y_true, y_pred).ravel()\n",
    "    sensitivity = tp / (tp + fn*0.25)\n",
    "    specificity = tn / (tn + fp)\n",
    "    precision=tp / (tp+fp)\n",
    "    accuracy = accuracy_score(y_true, y_pred)\n",
    "    f1 =f1_score(y_true, y_pred,average='micro')\n",
    "    return sensitivity, specificity, accuracy, f1\n",
    "\n",
    "def bootstrap_ci(metric, y_true, y_pred, n_iterations=1000, ci=95):\n",
    "    values = []\n",
    "    for _ in range(n_iterations):\n",
    "        indices = resample(range(len(y_true)), replace=True)\n",
    "        resampled_true = y_true[indices]\n",
    "        resampled_pred = y_pred[indices]\n",
    "        values.append(metric(resampled_true, resampled_pred))\n",
    "    \n",
    "    alpha = (100 - ci) / 2.0\n",
    "    lower = max(0.0, np.percentile(values, alpha))\n",
    "    upper = min(1.0, np.percentile(values, 100 - alpha))\n",
    "    \n",
    "    return lower, upper\n",
    "def bootstrap_f1_ci(metric, y_true, y_pred, n_iterations=1000, ci=95):\n",
    "    values = []\n",
    "    for _ in range(n_iterations):\n",
    "        indices = resample(range(len(y_true)), replace=True)\n",
    "        resampled_true = y_true[indices]\n",
    "        resampled_pred = y_pred[indices]\n",
    "        values.append(metric(resampled_true, resampled_pred,average='micro'))\n",
    "    \n",
    "    alpha = (100 - ci) / 2.0\n",
    "    lower = max(0.0, np.percentile(values, alpha))\n",
    "    upper = min(1.0, np.percentile(values, 100 - alpha))\n",
    "    \n",
    "    return lower, upper\n",
    "\n",
    "\n",
    "def performance_ci(model_name,test,predict,threshold):\n",
    "    ci_auc_lower, ci_auc_upper = bootstrap_ci(roc_auc_score, test, predict)\n",
    "    ci_sensitivity_lower, ci_sensitivity_upper = bootstrap_f1_ci(recall_score, test, (predict >threshold).astype(int))\n",
    "    ci_specificity_lower, ci_specificity_upper = bootstrap_ci(\n",
    "    lambda x, y: confusion_matrix(x, y).ravel()[0] / (confusion_matrix(x, y).ravel()[0] + confusion_matrix(x, y).ravel()[1]),\n",
    "    test,\n",
    "    (predict > threshold).astype(int)\n",
    ")\n",
    "    ci_accuracy_lower, ci_accuracy_upper = bootstrap_ci(accuracy_score, test, (predict >threshold).astype(int))\n",
    "    ci_f1_lower, ci_f1_upper = bootstrap_f1_ci(f1_score, test, (predict >threshold).astype(int))\n",
    "    print(\"{}: AUC={}({}-{}), Sensitivity={}({}-{}), Specificity={}({}-{}), Accuracy={}({}-{}), F1-Score={}({}-{})\".format(model_name,round((ci_auc_upper+ci_auc_lower)/2,3),round(ci_auc_lower,3),round(ci_auc_upper,3),round((ci_sensitivity_upper+ci_sensitivity_lower)/2,3),round(ci_sensitivity_lower,3), round(ci_sensitivity_upper,3),round((ci_specificity_upper+ci_specificity_lower)/2,3),round(ci_specificity_lower,3),round(ci_specificity_upper,3), round((ci_accuracy_upper+ci_accuracy_lower)/2,3),round(ci_accuracy_lower,3),round(ci_accuracy_upper,3), round((ci_f1_upper+ci_f1_lower)/2,3),round(ci_f1_lower,3),round(ci_f1_upper,3)))\n",
    "    \n",
    "# Calculate metrics for each model\n",
    "MobileNetV2_sensitivity, MobileNetV2_specificity, MobileNetV2_accuracy, MobileNetV2_f1 = calculate_metrics(y_test, (MobileNetV2_pre > MobileNetV2_optimal_threshold ).astype(int))\n",
    "MobileNetV1_sensitivity, MobileNetV1_specificity, MobileNetV1_accuracy, MobileNetV1_f1 = calculate_metrics(y_test, (MobileNetV1_pre > MobileNetV1_optimal_threshold).astype(int))\n",
    "DenseNet121_sensitivity, DenseNet121_specificity, DenseNet121_accuracy, DenseNet121_f1 = calculate_metrics(y_test, (DenseNet121_pre > DenseNet121_optimal_threshold).astype(int))\n",
    "EfficientNetV2B0_sensitivity, EfficientNetV2B0_specificity, EfficientNetV2B0_accuracy, EfficientNetV2B0_f1 = calculate_metrics(y_test, (EfficientNetV2B0_pre > EfficientNetV2B0_optimal_threshold).astype(int))\n",
    "NASNetMobile_sensitivity, NASNetMobile_specificity, NASNetMobile_accuracy, NASNetMobile_f1 = calculate_metrics(y_test, (NASNetMobile_pre > NASNetMobile_optimal_threshold).astype(int))\n",
    "ResNet50_sensitivity, ResNet50_specificity, ResNet50_accuracy, ResNet50_f1 = calculate_metrics(y_test, (ResNet50_pre > ResNet50_optimal_threshold).astype(int))\n",
    "\n",
    "\n",
    "print(\"model performance(95% CI)\")\n",
    "performance_ci('MobileNetV2',y_test,MobileNetV2_pre,MobileNetV2_optimal_threshold)\n",
    "performance_ci('MobileNetV1',y_test,MobileNetV1_pre,MobileNetV1_optimal_threshold)\n",
    "performance_ci('DenseNet121',y_test,DenseNet121_pre,DenseNet121_optimal_threshold)\n",
    "performance_ci('EfficientNetV2B0',y_test,EfficientNetV2B0_pre,EfficientNetV2B0_optimal_threshold)\n",
    "performance_ci('NASNetMobile',y_test,NASNetMobile_pre,NASNetMobile_optimal_threshold)\n",
    "performance_ci('ResNet50',y_test,ResNet50_pre,ResNet50_optimal_threshold)\n"
   ]
  }
 ],
 "metadata": {
  "kernelspec": {
   "display_name": "LeeYS",
   "language": "python",
   "name": "python3"
  },
  "language_info": {
   "codemirror_mode": {
    "name": "ipython",
    "version": 3
   },
   "file_extension": ".py",
   "mimetype": "text/x-python",
   "name": "python",
   "nbconvert_exporter": "python",
   "pygments_lexer": "ipython3",
   "version": "3.9.0"
  }
 },
 "nbformat": 4,
 "nbformat_minor": 2
}
